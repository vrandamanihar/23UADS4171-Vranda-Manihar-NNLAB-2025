{
 "cells": [
  {
   "cell_type": "code",
   "execution_count": 1,
   "metadata": {},
   "outputs": [
    {
     "name": "stdout",
     "output_type": "stream",
     "text": [
      "NAND Dataset:\n",
      "Inputs: [[0 0]\n",
      " [0 1]\n",
      " [1 0]\n",
      " [1 1]]\n",
      "Outputs: [1 1 1 0]\n",
      "XOR Dataset:\n",
      "Inputs: [[0 0]\n",
      " [0 1]\n",
      " [1 0]\n",
      " [1 1]]\n",
      "Outputs: [0 1 1 0]\n",
      "NAND Perceptron Accuracy: 100.0%\n",
      "XOR Perceptron Accuracy: 50.0%\n"
     ]
    }
   ],
   "source": [
    "import numpy as np\n",
    "\n",
    "\n",
    "class Perceptron:\n",
    "    def __init__(self, input_size, learning_rate=0.1, epochs=100):\n",
    "        self.weights = np.random.rand(input_size + 1)  # +1 for bias\n",
    "        self.learning_rate = learning_rate\n",
    "        self.epochs = epochs\n",
    "    \n",
    "    def activation(self, x):\n",
    "        return 1 if x >= 0 else 0\n",
    "    \n",
    "    def predict(self, x):\n",
    "        x = np.insert(x, 0, 1)  # Add bias term\n",
    "        return self.activation(np.dot(self.weights, x))\n",
    "    \n",
    "    def train(self, X, y):\n",
    "        for _ in range(self.epochs):\n",
    "            for i in range(len(X)):\n",
    "                x_i = np.insert(X[i], 0, 1)  # Add bias term\n",
    "                y_pred = self.activation(np.dot(self.weights, x_i))\n",
    "                self.weights += self.learning_rate * (y[i] - y_pred) * x_i\n",
    "    \n",
    "    def evaluate(self, X, y):\n",
    "        correct = sum(self.predict(x) == y[i] for i, x in enumerate(X))\n",
    "        accuracy = correct / len(y) * 100\n",
    "        return accuracy\n",
    "\n",
    "# NAND Gate Training Data\n",
    "X_NAND = np.array([[0, 0], [0, 1], [1, 0], [1, 1]])\n",
    "y_NAND = np.array([1, 1, 1, 0])\n",
    "print(\"NAND Dataset:\")\n",
    "print(\"Inputs:\", X_NAND)\n",
    "print(\"Outputs:\", y_NAND)\n",
    "\n",
    "# XOR Gate Training Data\n",
    "X_XOR = np.array([[0, 0], [0, 1], [1, 0], [1, 1]])\n",
    "y_XOR = np.array([0, 1, 1, 0])\n",
    "print(\"XOR Dataset:\")\n",
    "print(\"Inputs:\", X_XOR)\n",
    "print(\"Outputs:\", y_XOR)\n",
    "\n",
    "# Train and Evaluate Perceptron for NAND\n",
    "perceptron_nand = Perceptron(input_size=2)\n",
    "perceptron_nand.train(X_NAND, y_NAND)\n",
    "nand_accuracy = perceptron_nand.evaluate(X_NAND, y_NAND)\n",
    "print(f\"NAND Perceptron Accuracy: {nand_accuracy}%\")\n",
    "\n",
    "# Train and Evaluate Perceptron for XOR\n",
    "perceptron_xor = Perceptron(input_size=2)\n",
    "perceptron_xor.train(X_XOR, y_XOR)\n",
    "xor_accuracy = perceptron_xor.evaluate(X_XOR, y_XOR)\n",
    "print(f\"XOR Perceptron Accuracy: {xor_accuracy}%\")\n",
    "\n"
   ]
  }
 ],
 "metadata": {
  "kernelspec": {
   "display_name": "Python 3",
   "language": "python",
   "name": "python3"
  },
  "language_info": {
   "codemirror_mode": {
    "name": "ipython",
    "version": 3
   },
   "file_extension": ".py",
   "mimetype": "text/x-python",
   "name": "python",
   "nbconvert_exporter": "python",
   "pygments_lexer": "ipython3",
   "version": "3.12.1"
  }
 },
 "nbformat": 4,
 "nbformat_minor": 2
}
