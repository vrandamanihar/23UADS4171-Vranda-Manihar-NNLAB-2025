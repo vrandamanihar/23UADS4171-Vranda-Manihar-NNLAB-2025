{
 "cells": [
  {
   "cell_type": "code",
   "execution_count": 7,
   "metadata": {},
   "outputs": [
    {
     "name": "stdout",
     "output_type": "stream",
     "text": [
      "   id  Area  MajorAxisLength  MinorAxisLength  Eccentricity  ConvexArea  \\\n",
      "0   1  4537        92.229316        64.012769      0.719916        4677   \n",
      "1   2  2872        74.691881        51.400454      0.725553        3015   \n",
      "2   3  3048        76.293164        52.043491      0.731211        3132   \n",
      "3   4  3073        77.033628        51.928487      0.738639        3157   \n",
      "4   5  3693        85.124785        56.374021      0.749282        3802   \n",
      "\n",
      "   EquivDiameter    Extent  Perimeter  Roundness  AspectRation    Class  \n",
      "0      76.004525  0.657536    273.085   0.764510      1.440796  jasmine  \n",
      "1      60.471018  0.713009    208.317   0.831658      1.453137  jasmine  \n",
      "2      62.296341  0.759153    210.012   0.868434      1.465950  jasmine  \n",
      "3      62.551300  0.783529    210.657   0.870203      1.483456  jasmine  \n",
      "4      68.571668  0.769375    230.332   0.874743      1.510000  jasmine  \n",
      "Perceptron Test Accuracy: 100.00%\n"
     ]
    }
   ],
   "source": [
    "import numpy as np\n",
    "import pandas as pd\n",
    "from sklearn.model_selection import train_test_split\n",
    "from sklearn.preprocessing import StandardScaler\n",
    "\n",
    "\n",
    "data = pd.read_csv('rice dataset.csv')\n",
    "\n",
    "print(data.head())\n",
    "\n",
    "\n",
    "X = data.drop('Class', axis=1).values  # Features\n",
    "y = data['Class'].values  # Labels\n",
    "\n",
    "\n",
    "y = np.where(y == 'Cammeo', 0, 1)\n",
    "\n",
    "\n",
    "scaler = StandardScaler()\n",
    "X = scaler.fit_transform(X)\n",
    "\n",
    "\n",
    "X_train, X_test, y_train, y_test = train_test_split(X, y, test_size=0.2, random_state=42)\n",
    "\n",
    "\n",
    "weights = np.zeros(X_train.shape[1])\n",
    "bias = 0.0\n",
    "learning_rate = 0.01\n",
    "epochs = 100\n",
    "\n",
    "\n",
    "def step_function(x):\n",
    "    return 1 if x >= 0 else 0\n",
    "\n",
    "\n",
    "for epoch in range(epochs):\n",
    "    for i in range(X_train.shape[0]):\n",
    "        linear_output = np.dot(X_train[i], weights) + bias\n",
    "        prediction = step_function(linear_output)\n",
    "        error = y_train[i] - prediction\n",
    "        weights += learning_rate * error * X_train[i]\n",
    "        bias += learning_rate * error\n",
    "\n",
    "def predict(X):\n",
    "    linear_output = np.dot(X, weights) + bias\n",
    "    return np.where(linear_output >= 0, 1, 0)\n",
    "\n",
    "\n",
    "y_pred = predict(X_test)\n",
    "\n",
    "\n",
    "accuracy = np.mean(y_pred == y_test) * 100\n",
    "print(f'Perceptron Test Accuracy: {accuracy:.2f}%')\n"
   ]
  }
 ],
 "metadata": {
  "kernelspec": {
   "display_name": "Python 3",
   "language": "python",
   "name": "python3"
  },
  "language_info": {
   "codemirror_mode": {
    "name": "ipython",
    "version": 3
   },
   "file_extension": ".py",
   "mimetype": "text/x-python",
   "name": "python",
   "nbconvert_exporter": "python",
   "pygments_lexer": "ipython3",
   "version": "3.12.1"
  }
 },
 "nbformat": 4,
 "nbformat_minor": 2
}
